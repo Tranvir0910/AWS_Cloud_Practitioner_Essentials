{
 "cells": [
  {
   "cell_type": "markdown",
   "metadata": {},
   "source": [
    "### **Amazon Elastic File System (Amazon EFS)**"
   ]
  },
  {
   "cell_type": "markdown",
   "metadata": {},
   "source": [
    "#### **File Storage**"
   ]
  },
  {
   "cell_type": "markdown",
   "metadata": {},
   "source": [
    "Trong lưu trữ tệp, nhiều máy khách (như người dùng, ứng dụng, máy chủ và các thành phần khác) có thể truy cập dữ liệu được lưu trữ trong các thư mục tệp chia sẻ. Trong phương pháp này, một máy chủ lưu trữ sử dụng lưu trữ khối với hệ thống tệp cục bộ để tổ chức các tệp. Các máy khách truy cập dữ liệu thông qua đường dẫn tệp.\n",
    "\n",
    "So với lưu trữ khối và lưu trữ đối tượng, lưu trữ tệp lý tưởng cho các trường hợp sử dụng mà một số lượng lớn dịch vụ và tài nguyên cần truy cập cùng một dữ liệu cùng một thời điểm.\n",
    "\n",
    "**Amazon Elastic File System (Amazon EFS)** là một hệ thống tệp có khả năng mở rộng được sử dụng cùng với các dịch vụ Đám mây AWS và tài nguyên trên trang. \n",
    "\n",
    "Khi bạn thêm và xóa tệp, **Amazon EFS tự động mở rộng và thu nhỏ**. Nó có thể mở rộng theo nhu cầu lên đến petabytes mà không làm gián đoạn các ứng dụng."
   ]
  },
  {
   "cell_type": "markdown",
   "metadata": {},
   "source": [
    "#### **So sánh Amazon EBS và Amazon EFS**\n",
    "\n",
    "**Amazon EBS**\n",
    "\n",
    "- Một ổ đĩa Amazon EBS lưu trữ dữ liệu trong một Khu vực Khả dụng duy nhất.\n",
    "\n",
    "- Để gắn một máy ảo Amazon EC2 với một ổ đĩa EBS, cả máy ảo Amazon EC2 và ổ đĩa EBS phải nằm trong cùng một Khu vực Khả dụng.\n",
    "\n",
    "**Amazon EFS**\n",
    "\n",
    "- **Amazon EFS** là một dịch vụ vùng. Nó lưu trữ dữ liệu trong và qua nhiều Khu vực Khả dụng.\n",
    "\n",
    "- Khả năng lưu trữ trùng lặp cho phép bạn truy cập dữ liệu cùng một lúc từ tất cả các Khu vực Khả dụng trong Vùng nơi hệ thống tệp được đặt. Ngoài ra, các máy chủ trên trang có thể truy cập **Amazon EFS** bằng cách sử dụng **AWS Direct Connect**."
   ]
  }
 ],
 "metadata": {
  "language_info": {
   "name": "python"
  },
  "orig_nbformat": 4
 },
 "nbformat": 4,
 "nbformat_minor": 2
}
