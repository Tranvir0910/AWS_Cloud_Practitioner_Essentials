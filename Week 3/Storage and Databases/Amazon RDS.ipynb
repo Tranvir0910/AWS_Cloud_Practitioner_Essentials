{
 "cells": [
  {
   "cell_type": "markdown",
   "metadata": {},
   "source": [
    "### **Amazon Relational Database Service (Amazon RDS)**"
   ]
  },
  {
   "cell_type": "markdown",
   "metadata": {},
   "source": [
    "#### **Relational databases**"
   ]
  },
  {
   "cell_type": "markdown",
   "metadata": {},
   "source": [
    "Trong cơ sở dữ liệu liên kết, **dữ liệu được lưu trữ theo cách liên quan nó đến các phần dữ liệu khác**.\n",
    "\n",
    "Một ví dụ về cơ sở dữ liệu liên kết có thể là **hệ thống quản lý tồn kho của cửa hàng cà phê**. Mỗi bản ghi trong cơ sở dữ liệu sẽ bao gồm dữ liệu cho một mặt hàng duy nhất, chẳng hạn như tên sản phẩm, kích thước, giá và các thông tin khác.\n",
    "\n",
    "Cơ sở dữ liệu liên kết sử dụng ngôn ngữ truy vấn cấu trúc (SQL) để lưu trữ và truy vấn dữ liệu. Phương pháp này cho phép dữ liệu được lưu trữ một cách dễ hiểu, nhất quán và có khả năng mở rộng. \n",
    "\n",
    "Ví dụ, chủ cửa hàng cà phê có thể viết một truy vấn SQL để xác định tất cả khách hàng mua nhiều nhất đồ uống là cappuccino vừa.\n",
    "\n",
    "Ví dụ về dữ liệu trong cơ sở dữ liệu liên kết:"
   ]
  },
  {
   "attachments": {
    "image.png": {
     "image/png": "[encoded data removed]"
    }
   },
   "cell_type": "markdown",
   "metadata": {},
   "source": [
    "![image.png](attachment:image.png)"
   ]
  },
  {
   "cell_type": "markdown",
   "metadata": {},
   "source": [
    "#### **Amazon Relational Database Service**"
   ]
  },
  {
   "cell_type": "markdown",
   "metadata": {},
   "source": [
    "**Amazon Relational Database Service (Amazon RDS)** là một dịch vụ cho phép bạn chạy các cơ sở dữ liệu liên kết trong Đám mây AWS.\n",
    "\n",
    "**Amazon RDS** là một dịch vụ được quản lý tự động hoá các nhiệm vụ như cung cấp phần cứng, thiết lập cơ sở dữ liệu, cập nhật vá lỗi và sao lưu. Với những khả năng này, bạn có thể tiết kiệm thời gian thực hiện các nhiệm vụ quản trị và dành nhiều thời gian hơn để sử dụng dữ liệu để đổi mới ứng dụng của bạn. \n",
    "\n",
    "Bạn có thể **tích hợp Amazon RDS với các dịch vụ khác để đáp ứng nhu cầu kinh doanh và vận hành** của bạn, chẳng hạn như sử dụng **AWS Lambda** để truy vấn cơ sở dữ liệu từ một ứng dụng không cần máy chủ.\n",
    "\n",
    "**Amazon RDS** cung cấp nhiều tùy chọn bảo mật khác nhau. Nhiều hệ động cơ cơ sở dữ liệu của **Amazon RDS** cung cấp mã hóa tại nơi lưu trữ (bảo vệ dữ liệu trong khi được lưu trữ) và mã hóa trong quá trình truyền tải (bảo vệ dữ liệu trong quá trình gửi và nhận)"
   ]
  },
  {
   "cell_type": "markdown",
   "metadata": {},
   "source": [
    "#### **Amazon RDS database engines**"
   ]
  },
  {
   "cell_type": "markdown",
   "metadata": {},
   "source": [
    "**Amazon RDS** có sẵn trên sáu công cụ cơ sở dữ liệu, tối ưu hóa cho bộ nhớ, hiệu năng hoặc đầu vào/đầu ra (I/O). Các công cụ cơ sở dữ liệu được hỗ trợ bao gồm:"
   ]
  },
  {
   "cell_type": "markdown",
   "metadata": {},
   "source": [
    "- Amazon Aurora\n",
    "\n",
    "- PostgreSQL\n",
    "\n",
    "- MySQL\n",
    "\n",
    "- MariaDB\n",
    "\n",
    "- Oracle Database\n",
    "\n",
    "- Microsoft SQL Server"
   ]
  },
  {
   "cell_type": "markdown",
   "metadata": {},
   "source": [
    "#### **Amazon Aurora**"
   ]
  },
  {
   "cell_type": "markdown",
   "metadata": {},
   "source": [
    "**Amazon Aurora** là một cơ sở dữ liệu liên kết lớp doanh nghiệp. Nó tương thích với các **cơ sở dữ liệu liên kết MySQL và PostgreSQL**. Nó **nhanh hơn lên đến năm lần so với các cơ sở dữ liệu MySQL tiêu chuẩn** và **lên đến ba lần so với các cơ sở dữ liệu PostgreSQL tiêu chuẩn**.\n",
    "\n",
    "**Amazon Aurora** giúp giảm chi phí cơ sở dữ liệu của bạn bằng cách giảm số lần thực hiện thao tác đầu vào/ra (I/O) không cần thiết, đồng thời đảm bảo nguồn tài nguyên cơ sở dữ liệu của bạn luôn đáng tin cậy và có sẵn.\n",
    "\n",
    "Hãy xem xét sử dụng Amazon Aurora nếu khối lượng công việc của bạn đòi hỏi tính khả dụng cao. Nó nhân bản sáu bản sao của dữ liệu của bạn trên ba Khu vực Khả dụng và liên tục sao lưu dữ liệu của bạn vào Amazon S3."
   ]
  }
 ],
 "metadata": {
  "language_info": {
   "name": "python"
  },
  "orig_nbformat": 4
 },
 "nbformat": 4,
 "nbformat_minor": 2
}
