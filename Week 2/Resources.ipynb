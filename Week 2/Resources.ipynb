{
 "cells": [
  {
   "cell_type": "markdown",
   "metadata": {},
   "source": [
    "## **Resources**"
   ]
  },
  {
   "cell_type": "markdown",
   "metadata": {},
   "source": [
    "Review these resources to learn more about the concepts that were explored in Module 3.\n",
    "\n",
    "[Global Infrastructure](https://aws.amazon.com/about-aws/global-infrastructure/)\n",
    "\n",
    "[Interactive map of the AWS Global Infrastructure](https://www.infrastructure.aws/)\n",
    "\n",
    "[Regions and Availability Zones](https://aws.amazon.com/about-aws/global-infrastructure/regions_az)\n",
    "\n",
    "[AWS Networking and Content Delivery Blog](https://aws.amazon.com/blogs/networking-and-content-delivery/)\n",
    "\n",
    "[Tools to Build on AWS](https://aws.amazon.com/tools/)\n",
    "\n",
    "[AWS Customer Stories: Content Delivery](https://aws.amazon.com/solutions/case-studies/?customer-references-cards.sort-by=item.additionalFields.publishedDate&customer-references-cards.sort-order=desc&awsf.customer-references-location=*all&awsf.customer-references-segment=*all&awsf.customer-references-product=product%23vpc%7Cproduct%23api-gateway%7Cproduct%23cloudfront%7Cproduct%23route53%7Cproduct%23directconnect%7Cproduct%23elb&awsf.customer-references-category=category%23content-delivery)\n"
   ]
  }
 ],
 "metadata": {
  "language_info": {
   "name": "python"
  },
  "orig_nbformat": 4
 },
 "nbformat": 4,
 "nbformat_minor": 2
}
