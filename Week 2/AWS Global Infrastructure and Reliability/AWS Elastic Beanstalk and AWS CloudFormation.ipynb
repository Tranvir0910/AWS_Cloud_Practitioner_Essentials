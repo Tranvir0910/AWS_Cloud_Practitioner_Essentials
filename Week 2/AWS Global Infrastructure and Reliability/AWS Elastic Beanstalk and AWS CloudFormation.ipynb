{
 "cells": [
  {
   "cell_type": "markdown",
   "metadata": {},
   "source": [
    "### **AWS Elastic Beanstalk and AWS CloudFormation**"
   ]
  },
  {
   "cell_type": "markdown",
   "metadata": {},
   "source": [
    "#### **AWS Elastic Beanstalk88**\n",
    "\n",
    "Với AWS Elastic Beanstalk, bạn cung cấp mã và cài đặt cấu hình, và Elastic Beanstalk triển khai các tài nguyên cần thiết để thực hiện các nhiệm vụ sau:\n",
    "\n",
    "- Điều chỉnh khả năng\n",
    "\n",
    "- Cân bằng tải\n",
    "\n",
    "- Tự động co dãn\n",
    "\n",
    "- Giám sát sức khỏe ứng dụng\n",
    "\n",
    "#### **AWS CloudFormation**\n",
    "\n",
    "Với AWS CloudFormation, bạn có thể xem cơ sở hạ tầng của mình như là mã. Điều này có nghĩa là bạn có thể xây dựng môi trường bằng cách viết mã thay vì sử dụng Giao diện Quản lý AWS để cung cấp riêng lẻ các tài nguyên.\n",
    "\n",
    "AWS CloudFormation cung cấp tài nguyên của bạn một cách an toàn, có thể lặp lại, giúp bạn thường xuyên xây dựng cơ sở hạ tầng và ứng dụng của bạn mà không cần thực hiện các hành động thủ công hoặc viết mã tùy chỉnh. Nó xác định các hoạt động thích hợp để thực hiện khi quản lý ngăn xếp của bạn và tự động quay lại các thay đổi nếu phát hiện lỗi."
   ]
  }
 ],
 "metadata": {
  "language_info": {
   "name": "python"
  },
  "orig_nbformat": 4
 },
 "nbformat": 4,
 "nbformat_minor": 2
}
