{
 "cells": [
  {
   "cell_type": "markdown",
   "metadata": {},
   "source": [
    "### **Selecting a Region**"
   ]
  },
  {
   "cell_type": "markdown",
   "metadata": {},
   "source": [
    "#### **Compliance with data governance and legal requirements ( Tuân thủ các yêu cầu quản trị dữ liệu và pháp lý )**"
   ]
  },
  {
   "cell_type": "markdown",
   "metadata": {},
   "source": [
    "- Tùy theo công ty và vị trí của bạn, bạn có thể cần chạy dữ liệu của mình từ các khu vực cụ thể. Ví dụ, nếu công ty của bạn yêu cầu tất cả dữ liệu của mình phải nằm trong ranh giới của Vương quốc Anh, bạn sẽ chọn Khu vực London.\n",
    "\n",
    "- Không phải tất cả các công ty đều có quy định dữ liệu cụ thể về địa điểm, vì vậy bạn có thể cần tập trung nhiều hơn vào ba yếu tố còn lại."
   ]
  },
  {
   "cell_type": "markdown",
   "metadata": {},
   "source": [
    "#### **Proximity to your customers ( Gần gũi với khách hàng của bạn )**"
   ]
  },
  {
   "cell_type": "markdown",
   "metadata": {},
   "source": [
    "- Chọn một Khu vực gần gũi với khách hàng của bạn sẽ giúp bạn đưa nội dung đến họ nhanh hơn. Ví dụ, công ty của bạn có trụ sở tại Washington, DC, và nhiều khách hàng của bạn sống tại Singapore. \n",
    "\n",
    "- Bạn có thể xem xét chạy cơ sở hạ tầng của mình tại Khu vực Bắc Virginia để gần trụ sở công ty, và chạy ứng dụng của mình từ Khu vực Singapore."
   ]
  },
  {
   "cell_type": "markdown",
   "metadata": {},
   "source": [
    "#### **Available services within a Region ( Các dịch vụ có sẵn trong một Khu vực )**"
   ]
  },
  {
   "cell_type": "markdown",
   "metadata": {},
   "source": [
    "- Đôi khi, Khu vực gần nhất có thể không có tất cả các tính năng bạn muốn cung cấp cho khách hàng. AWS thường xuyên đổi mới bằng cách tạo ra các dịch vụ mới và mở rộng tính năng trong các dịch vụ hiện có. Tuy nhiên, việc làm cho các dịch vụ mới có sẵn trên toàn cầu đôi khi đòi hỏi AWS xây dựng phần cứng vật lý trong từng Khu vực một.\n",
    "\n",
    "- Giả sử như các nhà phát triển của bạn muốn xây dựng một ứng dụng sử dụng **Amazon Braket (nền tảng tính toán lượng tử của AWS)**. Tính đến thời điểm khóa học này, Amazon Braket vẫn chưa có sẵn trong mọi Khu vực AWS trên khắp thế giới, vì vậy các nhà phát triển của bạn sẽ phải chạy nó trong một trong các Khu vực đã cung cấp nó."
   ]
  },
  {
   "cell_type": "markdown",
   "metadata": {},
   "source": [
    "#### **Pricing ( Giá cả )**"
   ]
  },
  {
   "cell_type": "markdown",
   "metadata": {},
   "source": [
    "- Giả sử bạn đang xem xét chạy ứng dụng ở cả Hoa Kỳ và Brasil. Cách cấu trúc thuế của Brasil được thiết lập, có thể sẽ tốn thêm 50% để chạy cùng khối lượng công việc ra khỏi Khu vực São Paulo so với Khu vực Oregon. Bạn sẽ tìm hiểu chi tiết hơn về việc một số yếu tố xác định giá cả, nhưng tạm thời biết rằng giá dịch vụ có thể thay đổi từ Khu vực này sang Khu vực khác."
   ]
  }
 ],
 "metadata": {
  "language_info": {
   "name": "python"
  },
  "orig_nbformat": 4
 },
 "nbformat": 4,
 "nbformat_minor": 2
}
