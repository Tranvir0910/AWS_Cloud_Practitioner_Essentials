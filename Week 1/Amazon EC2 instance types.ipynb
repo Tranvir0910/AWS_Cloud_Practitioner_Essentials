{
 "cells": [
  {
   "cell_type": "markdown",
   "metadata": {},
   "source": [
    "### **Amazon EC2 instance types**"
   ]
  },
  {
   "cell_type": "markdown",
   "metadata": {},
   "source": [
    "#### **Máy chủ mục đích chung (General purpose instances):**"
   ]
  },
  {
   "cell_type": "markdown",
   "metadata": {},
   "source": [
    "Máy chủ mục đích chung cung cấp sự cân đối về tính toán, bộ nhớ và tài nguyên mạng. \n",
    "\n",
    "Bạn có thể sử dụng chúng cho nhiều công việc như máy chủ ứng dụng, máy chủ trò chơi, máy chủ dựa trên nền tảng doanh nghiệp, cơ sở dữ liệu nhỏ và trung bình. \n",
    "\n",
    "Nếu ứng dụng của bạn không yêu cầu tối ưu hóa trong một tài nguyên cụ thể, máy chủ mục đích chung có thể là sự lựa chọn phù hợp."
   ]
  },
  {
   "cell_type": "markdown",
   "metadata": {},
   "source": [
    "#### **Máy chủ tối ưu hóa cho tính toán (Compute optimized instances):**"
   ]
  },
  {
   "cell_type": "markdown",
   "metadata": {},
   "source": [
    "Máy chủ tối ưu hóa cho tính toán lý tưởng cho các ứng dụng yêu cầu tính toán cao và được hưởng lợi từ vi xử lý hiệu năng cao. \n",
    "\n",
    "Bạn có thể sử dụng loại máy chủ này cho các ứng dụng như máy chủ web, máy chủ ứng dụng và máy chủ trò chơi yêu cầu hiệu năng tính toán cao, cũng như các công việc xử lý hàng loạt đòi hỏi xử lý nhiều giao dịch trong một nhóm."
   ]
  },
  {
   "cell_type": "markdown",
   "metadata": {},
   "source": [
    "#### **Máy chủ tối ưu hóa cho bộ nhớ (Memory optimized instances):**"
   ]
  },
  {
   "cell_type": "markdown",
   "metadata": {},
   "source": [
    "Máy chủ tối ưu hóa cho bộ nhớ được thiết kế để cung cấp hiệu suất nhanh cho các công việc xử lý dữ liệu lớn trong bộ nhớ. \n",
    "\n",
    "Nếu ứng dụng của bạn đòi hỏi phải tải trước lượng lớn dữ liệu trước khi chạy, chẳng hạn như cơ sở dữ liệu hiệu suất cao hoặc công việc thực hiện xử lý thời gian thực của lượng lớn dữ liệu không cấu trúc, thì nên cân nhắc sử dụng máy chủ tối ưu hóa cho bộ nhớ để đạt được hiệu suất tốt."
   ]
  },
  {
   "cell_type": "markdown",
   "metadata": {},
   "source": [
    "#### **Máy chủ tích hợp tăng tốc (Accelerated computing instances):**"
   ]
  },
  {
   "cell_type": "markdown",
   "metadata": {},
   "source": [
    "Máy chủ tích hợp tăng tốc sử dụng các bộ tăng tốc phần cứng để thực hiện một số chức năng hiệu quả hơn so với việc thực hiện bằng phần mềm trên CPU. \n",
    "\n",
    "Các chức năng này bao gồm tính toán số dấu chấm động, xử lý đồ họa và khớp mẫu dữ liệu. \n",
    "\n",
    "Loại máy chủ này phù hợp với các công việc như ứng dụng đồ họa, trò chơi trực tuyến và ứng dụng truyền dẫn."
   ]
  },
  {
   "cell_type": "markdown",
   "metadata": {},
   "source": [
    "#### **Máy chủ tối ưu hóa cho lưu trữ (Storage optimized instances):**"
   ]
  },
  {
   "cell_type": "markdown",
   "metadata": {},
   "source": [
    "Máy chủ tối ưu hóa cho lưu trữ được thiết kế cho các công việc yêu cầu truy cập ghi và đọc tuần tự cao đối với các tập dữ liệu lớn trên lưu trữ cục bộ. Các công việc phù hợp bao gồm hệ thống tệp phân tán, ứng dụng lưu trữ dữ liệu và hệ thống xử lý giao dịch trực tuyến có tần suất cao. \n",
    "\n",
    "Loại máy chủ này cung cấp hàng chục nghìn IOPS ngẫu nhiên và thấp trễ đối với các ứng dụng đòi hỏi **IOPS** cao."
   ]
  },
  {
   "cell_type": "markdown",
   "metadata": {},
   "source": [
    "#### **Tóm Tắt**"
   ]
  },
  {
   "cell_type": "markdown",
   "metadata": {},
   "source": [
    "**- Máy chủ mục đích chung:** \n",
    "\n",
    "Cân đối tính toán, bộ nhớ và mạng. Phù hợp cho máy chủ ứng dụng, trò chơi, backend doanh nghiệp và cơ sở dữ liệu nhỏ và trung bình.\n",
    "\n",
    "**- Máy chủ tối ưu hóa cho tính toán:** \n",
    "\n",
    "Dành cho ứng dụng tính toán cao, máy chủ web, máy chủ trò chơi và công việc xử lý hàng loạt nhiều giao dịch.\n",
    "\n",
    "**- Máy chủ tối ưu hóa cho bộ nhớ:** \n",
    "\n",
    "Cung cấp hiệu suất nhanh cho công việc xử lý dữ liệu lớn trong bộ nhớ, như cơ sở dữ liệu hiệu suất cao hoặc xử lý dữ liệu không cấu trúc.\n",
    "\n",
    "**- Máy chủ tích hợp tăng tốc:** \n",
    "\n",
    "Sử dụng bộ tăng tốc phần cứng để xử lý hiệu quả các chức năng đòi hỏi tính toán cao, đồ họa và khớp mẫu dữ liệu.\n",
    "\n",
    "**- Máy chủ tối ưu hóa cho lưu trữ:**\n",
    "\n",
    "Dành cho các công việc yêu cầu truy cập ghi và đọc tuần tự cao đối với tập dữ liệu lớn trên lưu trữ cục bộ, như hệ thống tệp phân tán, lưu trữ dữ liệu và xử lý giao dịch trực tuyến."
   ]
  }
 ],
 "metadata": {
  "language_info": {
   "name": "python"
  },
  "orig_nbformat": 4
 },
 "nbformat": 4,
 "nbformat_minor": 2
}
