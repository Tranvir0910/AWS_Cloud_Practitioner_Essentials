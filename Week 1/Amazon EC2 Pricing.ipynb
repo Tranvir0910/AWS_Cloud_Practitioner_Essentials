{
 "cells": [
  {
   "cell_type": "markdown",
   "metadata": {},
   "source": [
    "### **Amazon EC2 Pricing**"
   ]
  },
  {
   "cell_type": "markdown",
   "metadata": {},
   "source": [
    "**1. On-Demand Instances (Máy chủ Trả tiền hàng giờ):**\n",
    "\n",
    "- Thích hợp cho công việc ngắn hạn, không đều đặn và không thể bị gián đoạn.\n",
    "\n",
    "- Không yêu cầu chi phí ban đầu hoặc hợp đồng tối thiểu.\n",
    "\n",
    "- Bạn chỉ trả tiền cho thời gian tính toán thực sự sử dụng.\n",
    "\n",
    "\n",
    "**2. Amazon EC2 Savings Plans (Kế hoạch Tiết kiệm Amazon EC2):**\n",
    "\n",
    "- Cam kết sử dụng một lượng tính toán nhất định trong một kỳ hạn 1 năm hoặc 3 năm.\n",
    "\n",
    "- Tiết kiệm lên đến 72% so với giá hàng giờ On-Demand.\n",
    "\n",
    "- Sử dụng giá ưu đãi cho số lượng tính toán cam kết, ngoài cam kết tính toán sẽ tính giá On-Demand bình thường.\n",
    "\n",
    "\n",
    "**3. Reserved Instances (Máy chủ Đặt trước):**\n",
    "\n",
    "- Giảm giá tính toán so với giá On-Demand.\n",
    "\n",
    "- Có thể mua một hợp đồng 1 năm hoặc 3 năm.\n",
    "\n",
    "- Nếu hết hạn một Reserved Instance, bạn có thể tiếp tục sử dụng máy chủ mà không bị gián đoạn hoặc mua một Reserved Instance mới để tiếp tục nhận giá ưu đãi.\n",
    "\n",
    "\n",
    "**4. Spot Instances (Máy chủ Thị trường):**\n",
    "\n",
    "- Phù hợp cho công việc có thời gian bắt đầu và kết thúc linh hoạt hoặc có thể chịu được gián đoạn.\n",
    "\n",
    "- Tiết kiệm lên đến 90% so với giá hàng giờ On-Demand.\n",
    "\n",
    "- Sử dụng khả năng tính toán không sử dụng của Amazon EC2.\n",
    "\n",
    "\n",
    "**5. Dedicated Hosts (Máy chủ Riêng tư):**\n",
    "\n",
    "- Các máy chủ vật lý hoàn toàn dành riêng cho việc sử dụng của bạn.\n",
    "\n",
    "- Bạn có thể sử dụng các giấy phép phần mềm hiện có của bạn để duy trì tuân thủ giấy phép.\n",
    "\n",
    "- Lựa chọn này là đắt nhất trong tất cả các tùy chọn Amazon EC2."
   ]
  }
 ],
 "metadata": {
  "language_info": {
   "name": "python"
  },
  "orig_nbformat": 4
 },
 "nbformat": 4,
 "nbformat_minor": 2
}
